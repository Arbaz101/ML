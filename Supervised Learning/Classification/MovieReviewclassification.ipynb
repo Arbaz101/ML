{
  "nbformat": 4,
  "nbformat_minor": 0,
  "metadata": {
    "colab": {
      "name": "MovieReviewclassification.ipynb",
      "provenance": [],
      "mount_file_id": "1REIbBRMKBg63ouove3u4BUdMJhqRHEYG",
      "authorship_tag": "ABX9TyNqYUqmDvn/dqIEV9cf8nwF",
      "include_colab_link": true
    },
    "kernelspec": {
      "name": "python3",
      "display_name": "Python 3"
    }
  },
  "cells": [
    {
      "cell_type": "markdown",
      "metadata": {
        "id": "view-in-github",
        "colab_type": "text"
      },
      "source": [
        "<a href=\"https://colab.research.google.com/github/Arbaz101/ML-AI/blob/master/Supervised%20Learning/Classification/MovieReviewclassification.ipynb\" target=\"_parent\"><img src=\"https://colab.research.google.com/assets/colab-badge.svg\" alt=\"Open In Colab\"/></a>"
      ]
    },
    {
      "cell_type": "markdown",
      "metadata": {
        "id": "IxnrDGtpRgtg"
      },
      "source": [
        "**This is to build a code to Classify movie reviews whether Positive(1) or Negative(0)**"
      ]
    },
    {
      "cell_type": "code",
      "metadata": {
        "id": "QIxudLD8RRt2"
      },
      "source": [
        "import numpy as np\n",
        "import pandas as pd"
      ],
      "execution_count": null,
      "outputs": []
    },
    {
      "cell_type": "code",
      "metadata": {
        "id": "XkUXvXAvRz5E"
      },
      "source": [
        "df_reviews_rd = pd.read_csv('/content/drive/My Drive/UPDATED_NLP_COURSE/TextFiles/moviereviews.tsv', sep='\\t')"
      ],
      "execution_count": null,
      "outputs": []
    },
    {
      "cell_type": "code",
      "metadata": {
        "id": "NVQbJc7pSGR1",
        "colab": {
          "base_uri": "https://localhost:8080/",
          "height": 197
        },
        "outputId": "5faf32d8-523d-4389-8547-fd2bab3fbb35"
      },
      "source": [
        "df_reviews_rd.head()"
      ],
      "execution_count": null,
      "outputs": [
        {
          "output_type": "execute_result",
          "data": {
            "text/html": [
              "<div>\n",
              "<style scoped>\n",
              "    .dataframe tbody tr th:only-of-type {\n",
              "        vertical-align: middle;\n",
              "    }\n",
              "\n",
              "    .dataframe tbody tr th {\n",
              "        vertical-align: top;\n",
              "    }\n",
              "\n",
              "    .dataframe thead th {\n",
              "        text-align: right;\n",
              "    }\n",
              "</style>\n",
              "<table border=\"1\" class=\"dataframe\">\n",
              "  <thead>\n",
              "    <tr style=\"text-align: right;\">\n",
              "      <th></th>\n",
              "      <th>label</th>\n",
              "      <th>review</th>\n",
              "    </tr>\n",
              "  </thead>\n",
              "  <tbody>\n",
              "    <tr>\n",
              "      <th>0</th>\n",
              "      <td>neg</td>\n",
              "      <td>how do films like mouse hunt get into theatres...</td>\n",
              "    </tr>\n",
              "    <tr>\n",
              "      <th>1</th>\n",
              "      <td>neg</td>\n",
              "      <td>some talented actresses are blessed with a dem...</td>\n",
              "    </tr>\n",
              "    <tr>\n",
              "      <th>2</th>\n",
              "      <td>pos</td>\n",
              "      <td>this has been an extraordinary year for austra...</td>\n",
              "    </tr>\n",
              "    <tr>\n",
              "      <th>3</th>\n",
              "      <td>pos</td>\n",
              "      <td>according to hollywood movies made in last few...</td>\n",
              "    </tr>\n",
              "    <tr>\n",
              "      <th>4</th>\n",
              "      <td>neg</td>\n",
              "      <td>my first press screening of 1998 and already i...</td>\n",
              "    </tr>\n",
              "  </tbody>\n",
              "</table>\n",
              "</div>"
            ],
            "text/plain": [
              "  label                                             review\n",
              "0   neg  how do films like mouse hunt get into theatres...\n",
              "1   neg  some talented actresses are blessed with a dem...\n",
              "2   pos  this has been an extraordinary year for austra...\n",
              "3   pos  according to hollywood movies made in last few...\n",
              "4   neg  my first press screening of 1998 and already i..."
            ]
          },
          "metadata": {
            "tags": []
          },
          "execution_count": 3
        }
      ]
    },
    {
      "cell_type": "code",
      "metadata": {
        "id": "5Y0PifHBSMOm",
        "colab": {
          "base_uri": "https://localhost:8080/"
        },
        "outputId": "c2e293f6-a746-497d-9fa1-b43c1cae0b3a"
      },
      "source": [
        "df_reviews_rd.shape"
      ],
      "execution_count": null,
      "outputs": [
        {
          "output_type": "execute_result",
          "data": {
            "text/plain": [
              "(2000, 2)"
            ]
          },
          "metadata": {
            "tags": []
          },
          "execution_count": 4
        }
      ]
    },
    {
      "cell_type": "code",
      "metadata": {
        "id": "QrnvdO3mSYIN",
        "colab": {
          "base_uri": "https://localhost:8080/"
        },
        "outputId": "c0d81024-d796-457d-aa9d-1a7e7b583366"
      },
      "source": [
        "df_reviews_rd.isnull().sum()"
      ],
      "execution_count": null,
      "outputs": [
        {
          "output_type": "execute_result",
          "data": {
            "text/plain": [
              "label      0\n",
              "review    35\n",
              "dtype: int64"
            ]
          },
          "metadata": {
            "tags": []
          },
          "execution_count": 5
        }
      ]
    },
    {
      "cell_type": "code",
      "metadata": {
        "id": "jg_LQnbDSv0Y"
      },
      "source": [
        "df_reviews_rd.dropna(inplace=True)"
      ],
      "execution_count": null,
      "outputs": []
    },
    {
      "cell_type": "code",
      "metadata": {
        "id": "BWhAEszITCeu",
        "colab": {
          "base_uri": "https://localhost:8080/"
        },
        "outputId": "e57ef8d4-912c-4dc4-e562-6a1c4d3ba446"
      },
      "source": [
        "df_reviews_rd.isnull().sum()"
      ],
      "execution_count": null,
      "outputs": [
        {
          "output_type": "execute_result",
          "data": {
            "text/plain": [
              "label     0\n",
              "review    0\n",
              "dtype: int64"
            ]
          },
          "metadata": {
            "tags": []
          },
          "execution_count": 7
        }
      ]
    },
    {
      "cell_type": "markdown",
      "metadata": {
        "id": "6sN7VPjqTY5k"
      },
      "source": [
        "**Now checking for any white space reviews**"
      ]
    },
    {
      "cell_type": "code",
      "metadata": {
        "id": "I84WexebTFsz"
      },
      "source": [
        "blanks = []\n",
        "\n",
        "#(index, label, review) tuple is returned while using itertuples() and using isspace() to check the space\n",
        "for i,lb,rv in df_reviews_rd.itertuples():\n",
        "  if rv.isspace():\n",
        "    blanks.append(i)\n",
        "    "
      ],
      "execution_count": null,
      "outputs": []
    },
    {
      "cell_type": "code",
      "metadata": {
        "id": "2JSay5nEu7Fi"
      },
      "source": [
        "df_reviews_rd.drop(blanks, inplace=True)"
      ],
      "execution_count": null,
      "outputs": []
    },
    {
      "cell_type": "code",
      "metadata": {
        "id": "flo9lftvvDc0",
        "colab": {
          "base_uri": "https://localhost:8080/"
        },
        "outputId": "0d4be2e5-14aa-4e77-9dc4-7af3655c6b50"
      },
      "source": [
        "df_reviews_rd.shape"
      ],
      "execution_count": null,
      "outputs": [
        {
          "output_type": "execute_result",
          "data": {
            "text/plain": [
              "(1938, 2)"
            ]
          },
          "metadata": {
            "tags": []
          },
          "execution_count": 10
        }
      ]
    },
    {
      "cell_type": "code",
      "metadata": {
        "id": "q4avJpYwvOxt"
      },
      "source": [
        "X = df_reviews_rd['review']\n",
        "y = df_reviews_rd['label']"
      ],
      "execution_count": null,
      "outputs": []
    },
    {
      "cell_type": "code",
      "metadata": {
        "id": "KwjXA4ALvF58"
      },
      "source": [
        "from sklearn.model_selection import train_test_split"
      ],
      "execution_count": null,
      "outputs": []
    },
    {
      "cell_type": "code",
      "metadata": {
        "id": "LXtVJclevWiT"
      },
      "source": [
        "X_train, X_test, y_train, y_test  = train_test_split(X,y,test_size=0.3,random_state = 0)"
      ],
      "execution_count": null,
      "outputs": []
    },
    {
      "cell_type": "code",
      "metadata": {
        "id": "rRC2HnMYvoAp"
      },
      "source": [
        "from sklearn.pipeline import Pipeline\n",
        "from sklearn.feature_extraction.text import TfidfVectorizer\n",
        "from sklearn.svm import SVC"
      ],
      "execution_count": null,
      "outputs": []
    },
    {
      "cell_type": "code",
      "metadata": {
        "id": "y6EgLZodv3ET"
      },
      "source": [
        "review_class = Pipeline([('tfidf',TfidfVectorizer()),('clf',SVC())])"
      ],
      "execution_count": null,
      "outputs": []
    },
    {
      "cell_type": "code",
      "metadata": {
        "id": "lBuMYkZHwJdJ",
        "colab": {
          "base_uri": "https://localhost:8080/"
        },
        "outputId": "371bd0a5-65af-4dc4-d20a-4de429960db6"
      },
      "source": [
        "review_class.fit(X_train,y_train)"
      ],
      "execution_count": null,
      "outputs": [
        {
          "output_type": "execute_result",
          "data": {
            "text/plain": [
              "Pipeline(memory=None,\n",
              "         steps=[('tfidf',\n",
              "                 TfidfVectorizer(analyzer='word', binary=False,\n",
              "                                 decode_error='strict',\n",
              "                                 dtype=<class 'numpy.float64'>,\n",
              "                                 encoding='utf-8', input='content',\n",
              "                                 lowercase=True, max_df=1.0, max_features=None,\n",
              "                                 min_df=1, ngram_range=(1, 1), norm='l2',\n",
              "                                 preprocessor=None, smooth_idf=True,\n",
              "                                 stop_words=None, strip_accents=None,\n",
              "                                 sublinear_tf=False,\n",
              "                                 token_pattern='(?u)\\\\b\\\\w\\\\w+\\\\b',\n",
              "                                 tokenizer=None, use_idf=True,\n",
              "                                 vocabulary=None)),\n",
              "                ('clf',\n",
              "                 SVC(C=1.0, break_ties=False, cache_size=200, class_weight=None,\n",
              "                     coef0=0.0, decision_function_shape='ovr', degree=3,\n",
              "                     gamma='scale', kernel='rbf', max_iter=-1,\n",
              "                     probability=False, random_state=None, shrinking=True,\n",
              "                     tol=0.001, verbose=False))],\n",
              "         verbose=False)"
            ]
          },
          "metadata": {
            "tags": []
          },
          "execution_count": 16
        }
      ]
    },
    {
      "cell_type": "code",
      "metadata": {
        "id": "iQWT62aswik0"
      },
      "source": [
        "predictions = review_class.predict(X_test)"
      ],
      "execution_count": null,
      "outputs": []
    },
    {
      "cell_type": "code",
      "metadata": {
        "id": "ODaFQcgkwrMg"
      },
      "source": [
        "from sklearn.metrics import confusion_matrix, classification_report"
      ],
      "execution_count": null,
      "outputs": []
    },
    {
      "cell_type": "code",
      "metadata": {
        "id": "nZ7E3V5CviUH",
        "colab": {
          "base_uri": "https://localhost:8080/"
        },
        "outputId": "29b9a403-577c-45f0-b895-ce9e6981e5ad"
      },
      "source": [
        "print(confusion_matrix(y_test,predictions))"
      ],
      "execution_count": null,
      "outputs": [
        {
          "output_type": "stream",
          "text": [
            "[[237  32]\n",
            " [ 60 253]]\n"
          ],
          "name": "stdout"
        }
      ]
    },
    {
      "cell_type": "code",
      "metadata": {
        "id": "7u3CUIGnu5gU",
        "colab": {
          "base_uri": "https://localhost:8080/"
        },
        "outputId": "5ded1a14-edb4-4d72-8048-ed53a005c756"
      },
      "source": [
        "print(classification_report(y_test,predictions))"
      ],
      "execution_count": null,
      "outputs": [
        {
          "output_type": "stream",
          "text": [
            "              precision    recall  f1-score   support\n",
            "\n",
            "         neg       0.80      0.88      0.84       269\n",
            "         pos       0.89      0.81      0.85       313\n",
            "\n",
            "    accuracy                           0.84       582\n",
            "   macro avg       0.84      0.84      0.84       582\n",
            "weighted avg       0.85      0.84      0.84       582\n",
            "\n"
          ],
          "name": "stdout"
        }
      ]
    },
    {
      "cell_type": "code",
      "metadata": {
        "id": "9AIRW4_9etlp"
      },
      "source": [
        "train = TfidfVectorizer()\r\n",
        "train1 = train.fit_transform(['food is good'], )"
      ],
      "execution_count": null,
      "outputs": []
    },
    {
      "cell_type": "code",
      "metadata": {
        "colab": {
          "base_uri": "https://localhost:8080/"
        },
        "id": "kpng4AgNfDWC",
        "outputId": "09dff9fe-b47a-4d0b-83f3-6334dcfc0bfb"
      },
      "source": [
        "print(train1)"
      ],
      "execution_count": null,
      "outputs": [
        {
          "output_type": "stream",
          "text": [
            "  (0, 1)\t0.5773502691896258\n",
            "  (0, 2)\t0.5773502691896258\n",
            "  (0, 0)\t0.5773502691896258\n"
          ],
          "name": "stdout"
        }
      ]
    },
    {
      "cell_type": "code",
      "metadata": {
        "colab": {
          "base_uri": "https://localhost:8080/"
        },
        "id": "-UJjbFo4ee6_",
        "outputId": "f53475fc-d7b0-4caa-e1a5-8307f3ba311f"
      },
      "source": [
        "review_class.predict(['food is good'])"
      ],
      "execution_count": null,
      "outputs": [
        {
          "output_type": "execute_result",
          "data": {
            "text/plain": [
              "array(['pos'], dtype=object)"
            ]
          },
          "metadata": {
            "tags": []
          },
          "execution_count": 27
        }
      ]
    }
  ]
}